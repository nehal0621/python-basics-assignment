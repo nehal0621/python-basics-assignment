{
  "nbformat": 4,
  "nbformat_minor": 0,
  "metadata": {
    "colab": {
      "provenance": []
    },
    "kernelspec": {
      "name": "python3",
      "display_name": "Python 3"
    },
    "language_info": {
      "name": "python"
    }
  },
  "cells": [
    {
      "cell_type": "markdown",
      "source": [
        "# **PYTHON BASICS ASSIGNMENT**"
      ],
      "metadata": {
        "id": "MoUjK7gGNUyc"
      }
    },
    {
      "cell_type": "markdown",
      "source": [
        "# **theory questions**\n",
        "\n",
        "\n",
        "1. What is Python, and why is it popular ?\n",
        "- python is high- level language and it is easy to learn thats why it is popular\n",
        "\n",
        "\n",
        "2. What is an interpreter in Python ?\n",
        "-  An interpreter reads and executes python code line by line in python     programming language\n",
        "\n",
        "\n",
        "3. What are pre-defined keywords in Python ?\n",
        "- In python pre-defined keywords are reserved words that have special meaning in language,we can not use them as variable names and function names.\n",
        "\n",
        "\n",
        "4. Can keywords be used as variable names ?\n",
        "-  No , we can not use keywords as variable name.\n",
        "\n",
        "5. What is mutability in Python?\n",
        "-  mutability means you can change something after you create it.\n",
        "\n",
        "6. Why are lists mutable, but tuples are immutable ?\n",
        "- -list are mutable because they store's changing data ,\n",
        "  -tuples are immutable because they store's fixed & constant data.\n",
        "\n",
        "7. What is the difference between “==” and “is” operators in Python ?\n",
        "- ==  checks if values are equal,\n",
        "  is checks same object.\n",
        "\n",
        "8. What are logical operators in Python ?\n",
        "-  logical operators combine multiple conditions in python.\n",
        "\n",
        "9. What is type casting in Python ?\n",
        "-  type casting means converting one data type into another.\n",
        "\n",
        "10. What is the difference between implicit and explicit type casting ?\n",
        "-   implicit type casting means automatic it done automatically by python .\n",
        "    explicit type casting means manual when you tell python to convert a value using functions then it works .\n",
        "\n",
        "11.  What is the purpose of conditional statements in Python ?\n",
        "-   purpose of conditional statements are used to make decisions in your code.\n",
        "\n",
        "12. How does the elif statement work  ?\n",
        "-   else if statement is used to check another condition if previous if    condition was false.\n",
        "\n",
        "13. What is the difference between for and while loops ?\n",
        "-   for loop means how many times you want to repeat an action,\n",
        "    while loop repeat an action until a condition changes\n",
        "\n",
        "\n",
        "14. Describe a scenario where a while loop is more suitable than a for loop.\n",
        "-  A while loop is more suitable when you need to repeat an action based on a condition that is not fixed in advance — such as when you don’t know how many times a user might need to provide input before they give a valid response."
      ],
      "metadata": {
        "id": "gK7RLj4I4mkR"
      }
    },
    {
      "cell_type": "markdown",
      "source": [
        "## **Practical  questions**\n",
        "\n"
      ],
      "metadata": {
        "id": "Rx9O-j-hMXSf"
      }
    },
    {
      "cell_type": "markdown",
      "source": [
        "1. Write a Python program to print \"Hello, World!\n",
        "\n"
      ],
      "metadata": {
        "id": "htsyKfYELcO0"
      }
    },
    {
      "cell_type": "code",
      "source": [
        "print(\"Hello, world!\")"
      ],
      "metadata": {
        "colab": {
          "base_uri": "https://localhost:8080/"
        },
        "id": "eB9goYAZLmgQ",
        "outputId": "cbc301a3-97df-49e0-a35b-9567dabbf421"
      },
      "execution_count": null,
      "outputs": [
        {
          "output_type": "stream",
          "name": "stdout",
          "text": [
            "Hello, world!\n"
          ]
        }
      ]
    },
    {
      "cell_type": "markdown",
      "source": [
        "2. Write a Python program that displays your name and age"
      ],
      "metadata": {
        "id": "aivV4uztLmOz"
      }
    },
    {
      "cell_type": "code",
      "source": [
        "name = \"nehal\"\n",
        "age=22\n",
        "print(\"Name\",name, \"Age\",age)"
      ],
      "metadata": {
        "id": "VD3RuA3I9FRW",
        "colab": {
          "base_uri": "https://localhost:8080/"
        },
        "outputId": "17d7547e-4d80-4113-8b0f-d8fc998640b1"
      },
      "execution_count": null,
      "outputs": [
        {
          "output_type": "stream",
          "name": "stdout",
          "text": [
            "Name nehal Age 22\n"
          ]
        }
      ]
    },
    {
      "cell_type": "markdown",
      "source": [
        "3. Write code to print all the pre-defined keywords in Python using the keyword library"
      ],
      "metadata": {
        "id": "xdQbnSOFMkMA"
      }
    },
    {
      "cell_type": "code",
      "source": [
        "import keyword\n",
        "\n",
        "# Print the list of all keywords in the current Python version\n",
        "print(\"Python keywords are:\")\n",
        "print(keyword.kwlist)\n",
        "\n"
      ],
      "metadata": {
        "colab": {
          "base_uri": "https://localhost:8080/"
        },
        "id": "FGzP3TKDMioh",
        "outputId": "bc216b48-59c8-4341-c86e-8d4b7ba634b7"
      },
      "execution_count": null,
      "outputs": [
        {
          "output_type": "stream",
          "name": "stdout",
          "text": [
            "Python keywords are:\n",
            "['False', 'None', 'True', 'and', 'as', 'assert', 'async', 'await', 'break', 'class', 'continue', 'def', 'del', 'elif', 'else', 'except', 'finally', 'for', 'from', 'global', 'if', 'import', 'in', 'is', 'lambda', 'nonlocal', 'not', 'or', 'pass', 'raise', 'return', 'try', 'while', 'with', 'yield']\n"
          ]
        }
      ]
    },
    {
      "cell_type": "markdown",
      "source": [
        "4. Write a program that checks if a given word is a Python keyword."
      ],
      "metadata": {
        "id": "AudBEFS1NUhX"
      }
    },
    {
      "cell_type": "code",
      "source": [
        "import keyword\n",
        "\n",
        "word = \"while\"\n",
        "if word in keyword.kwlist:\n",
        "    print(f\"{word} is a Python keyword\")\n",
        "else:\n",
        "    print(f\"{word} is not a Python keyword\")\n"
      ],
      "metadata": {
        "colab": {
          "base_uri": "https://localhost:8080/"
        },
        "id": "FtjVITfnNnED",
        "outputId": "275b54ba-34d6-4981-db8c-f8d11ea0eaa9"
      },
      "execution_count": null,
      "outputs": [
        {
          "output_type": "stream",
          "name": "stdout",
          "text": [
            "while is a Python keyword\n"
          ]
        }
      ]
    },
    {
      "cell_type": "markdown",
      "source": [
        " 5. Create a list and tuple in Python, and demonstrate how attempting to change an element works differently\n",
        "for each."
      ],
      "metadata": {
        "id": "kfNFEEzWOrgs"
      }
    },
    {
      "cell_type": "code",
      "source": [
        "# Creating a list and a tuple\n",
        "my_list = [1, 2, 3, 4, 5]\n",
        "my_tuple = (1, 2, 3, 4, 5)\n",
        "\n",
        "# Attempt to change an element in the list\n",
        "print(\"Original list:\", my_list)\n",
        "my_list[2] = 99  # This will work\n",
        "print(\"List after change:\", my_list)\n",
        "\n",
        "# Attempt to change an element in the tuple\n",
        "print(\"Original tuple:\", my_tuple)\n",
        "try:\n",
        "    my_tuple[2] = 99  # This will raise an error\n",
        "except TypeError as e:\n",
        "    print(\"Error while modifying tuple:\", e)\n"
      ],
      "metadata": {
        "colab": {
          "base_uri": "https://localhost:8080/"
        },
        "id": "S2M962edPK2p",
        "outputId": "4a9ac2b3-2a1e-4c01-d995-107b8bb26691"
      },
      "execution_count": null,
      "outputs": [
        {
          "output_type": "stream",
          "name": "stdout",
          "text": [
            "Original list: [1, 2, 3, 4, 5]\n",
            "List after change: [1, 2, 99, 4, 5]\n",
            "Original tuple: (1, 2, 3, 4, 5)\n",
            "Error while modifying tuple: 'tuple' object does not support item assignment\n"
          ]
        }
      ]
    },
    {
      "cell_type": "markdown",
      "source": [
        "6. Write a function to demonstrate the behavior of mutable and immutable arguments."
      ],
      "metadata": {
        "id": "otP3AT1nPOQr"
      }
    },
    {
      "cell_type": "code",
      "source": [
        "def modify_arguments(immutable_arg, mutable_arg):\n",
        "    print(\"Original immutable argument:\", immutable_arg)\n",
        "    print(\"Original mutable argument:\", mutable_arg)\n",
        "\n",
        "    # Modifying the immutable argument (doesn't change the original)\n",
        "    immutable_arg += 10\n",
        "    print(\"Modified immutable argument:\", immutable_arg)\n",
        "\n",
        "    # Modifying the mutable argument (changes the original)\n",
        "    mutable_arg.append(99)\n",
        "    print(\"Modified mutable argument:\", mutable_arg)\n",
        "\n",
        "\n",
        "# Immutable argument (integer, which is immutable)\n",
        "immutable_value = 5\n",
        "\n",
        "# Mutable argument (list, which is mutable)\n",
        "mutable_value = [1, 2, 3]\n",
        "\n",
        "# Calling the function\n",
        "modify_arguments(immutable_value, mutable_value)\n",
        "\n",
        "# Checking the original values after the function call\n",
        "print(\"\\nAfter function call:\")\n",
        "print(\"Original immutable value:\", immutable_value)\n",
        "print(\"Original mutable value:\", mutable_value)\n"
      ],
      "metadata": {
        "colab": {
          "base_uri": "https://localhost:8080/"
        },
        "id": "KCOPoUTmPMiy",
        "outputId": "ae4e415a-b7bb-4497-8603-8594ab8917be"
      },
      "execution_count": null,
      "outputs": [
        {
          "output_type": "stream",
          "name": "stdout",
          "text": [
            "Original immutable argument: 5\n",
            "Original mutable argument: [1, 2, 3]\n",
            "Modified immutable argument: 15\n",
            "Modified mutable argument: [1, 2, 3, 99]\n",
            "\n",
            "After function call:\n",
            "Original immutable value: 5\n",
            "Original mutable value: [1, 2, 3, 99]\n"
          ]
        }
      ]
    },
    {
      "cell_type": "markdown",
      "source": [
        "7. Write a program that performs basic arithmetic operations on two user-input numbers."
      ],
      "metadata": {
        "id": "tvR8ayEoPkHr"
      }
    },
    {
      "cell_type": "code",
      "source": [
        "# Get user input\n",
        "num1, num2 = map(float, input(\"Enter two numbers separated by space: \").split())\n",
        "\n",
        "# Perform and display operations\n",
        "print(f\"{num1} + {num2} = {num1 + num2}\")\n",
        "print(f\"{num1} - {num2} = {num1 - num2}\")\n",
        "print(f\"{num1} * {num2} = {num1 * num2}\")\n",
        "print(f\"{num1} / {num2} = {num1 / num2 if num2 != 0 else 'Error: Cannot divide by zero'}\")\n",
        "\n"
      ],
      "metadata": {
        "id": "ZsZg_4e8Pian",
        "colab": {
          "base_uri": "https://localhost:8080/"
        },
        "outputId": "88a47389-e134-4632-d9b0-11387f4b6c0e"
      },
      "execution_count": null,
      "outputs": [
        {
          "output_type": "stream",
          "name": "stdout",
          "text": [
            "Enter two numbers separated by space: 10  5\n",
            "10.0 + 5.0 = 15.0\n",
            "10.0 - 5.0 = 5.0\n",
            "10.0 * 5.0 = 50.0\n",
            "10.0 / 5.0 = 2.0\n"
          ]
        }
      ]
    },
    {
      "cell_type": "markdown",
      "source": [
        "8. Write a program to demonstrate the use of logical operators"
      ],
      "metadata": {
        "id": "P_tKB0z9QmgN"
      }
    },
    {
      "cell_type": "code",
      "source": [
        "def logical_operators_demo():\n",
        "    # User input for two boolean values (True or False)\n",
        "    x = bool(int(input(\"Enter 1 for True, 0 for False for the first condition: \")))\n",
        "    y = bool(int(input(\"Enter 1 for True, 0 for False for the second condition: \")))\n",
        "\n",
        "    # Demonstrating logical operators\n",
        "    print(f\"\\nConditions: x = {x}, y = {y}\")\n",
        "\n",
        "    # 'and' operator\n",
        "    print(f\"x and y = {x and y}\")\n",
        "\n",
        "    # 'or' operator\n",
        "    print(f\"x or y = {x or y}\")\n",
        "\n",
        "    # 'not' operator (negates the value)\n",
        "    print(f\"not x = {not x}\")\n",
        "    print(f\"not y = {not y}\")\n",
        "\n",
        "# Call the function\n",
        "logical_operators_demo()\n"
      ],
      "metadata": {
        "colab": {
          "base_uri": "https://localhost:8080/"
        },
        "id": "X_PjLvZLQIic",
        "outputId": "63630319-e411-4646-bdc0-8820cb1af391"
      },
      "execution_count": null,
      "outputs": [
        {
          "output_type": "stream",
          "name": "stdout",
          "text": [
            "Enter 1 for True, 0 for False for the first condition: 1\n",
            "Enter 1 for True, 0 for False for the second condition: 0\n",
            "\n",
            "Conditions: x = True, y = False\n",
            "x and y = False\n",
            "x or y = True\n",
            "not x = False\n",
            "not y = True\n"
          ]
        }
      ]
    },
    {
      "cell_type": "markdown",
      "source": [
        "9. Write a Python program to convert user input from string to integer, float, and boolean types."
      ],
      "metadata": {
        "id": "Iz7JvR5lQk4M"
      }
    },
    {
      "cell_type": "code",
      "source": [
        "def convert_input():\n",
        "    # Get user input as string\n",
        "    user_input = input(\"Enter a value: \")\n",
        "\n",
        "    # Convert to integer\n",
        "    try:\n",
        "        int_value = int(user_input)\n",
        "        print(f\"Converted to integer: {int_value}\")\n",
        "    except ValueError:\n",
        "        print(\"Invalid input for integer conversion.\")\n",
        "\n",
        "    # Convert to float\n",
        "    try:\n",
        "        float_value = float(user_input)\n",
        "        print(f\"Converted to float: {float_value}\")\n",
        "    except ValueError:\n",
        "        print(\"Invalid input for float conversion.\")\n",
        "\n",
        "    # Convert to boolean\n",
        "    bool_value = bool(user_input)  # Converts non-empty string to True, empty string to False\n",
        "    print(f\"Converted to boolean: {bool_value}\")\n",
        "\n",
        "# Call the function\n",
        "convert_input()\n"
      ],
      "metadata": {
        "colab": {
          "base_uri": "https://localhost:8080/"
        },
        "id": "Kl0tN9MgRMQh",
        "outputId": "0ad7947c-3e07-43d9-c036-0f0c622545d0"
      },
      "execution_count": null,
      "outputs": [
        {
          "output_type": "stream",
          "name": "stdout",
          "text": [
            "Enter a value: 123\n",
            "Converted to integer: 123\n",
            "Converted to float: 123.0\n",
            "Converted to boolean: True\n"
          ]
        }
      ]
    },
    {
      "cell_type": "markdown",
      "source": [
        "10. Write code to demonstrate type casting with list elements."
      ],
      "metadata": {
        "id": "ts5iMAWhRWff"
      }
    },
    {
      "cell_type": "code",
      "source": [
        "original_list = [1, 2.5, '3', '4.5', True]\n",
        "\n",
        "# Type casting using map and lambda\n",
        "float_list = list(map(lambda x: float(x) if isinstance(x, (int, float, str)) else x, original_list))\n",
        "string_list = list(map(str, original_list))\n",
        "int_list = list(map(lambda x: int(float(x)) if isinstance(x, (int, float, str)) and x.replace('.', '', 1).isdigit() else x, original_list))\n",
        "bool_to_int_list = list(map(lambda x: int(x) if isinstance(x, bool) else x, original_list))\n",
        "\n",
        "print(\"Original:\", original_list)\n",
        "print(\"To float:\", float_list)\n",
        "print(\"To string:\", string_list)\n",
        "print(\"Numeric to int:\", int_list)\n",
        "print(\"Boolean to int:\", bool_to_int_list)\n"
      ],
      "metadata": {
        "id": "M14EYadYSMgG"
      },
      "execution_count": null,
      "outputs": []
    },
    {
      "cell_type": "markdown",
      "source": [
        "11. Write a program that checks if a number is positive, negative, or zero"
      ],
      "metadata": {
        "id": "xlRguK4sSQcu"
      }
    },
    {
      "cell_type": "code",
      "source": [
        "def check_number():\n",
        "    # Get user input\n",
        "    try:\n",
        "        num = float(input(\"Enter a number: \"))\n",
        "\n",
        "        # Check if the number is positive, negative, or zero\n",
        "        if num > 0:\n",
        "            print(\"The number is positive.\")\n",
        "        elif num < 0:\n",
        "            print(\"The number is negative.\")\n",
        "        else:\n",
        "            print(\"The number is zero.\")\n",
        "    except ValueError:\n",
        "        print(\"Invalid input. Please enter a valid number.\")\n",
        "\n",
        "# Call the function\n",
        "check_number()\n"
      ],
      "metadata": {
        "colab": {
          "base_uri": "https://localhost:8080/"
        },
        "id": "mhvQhz1fSiIC",
        "outputId": "8ce095f9-5c86-4eef-eaa2-8b02ab93932b"
      },
      "execution_count": null,
      "outputs": [
        {
          "output_type": "stream",
          "name": "stdout",
          "text": [
            "Enter a number: 5\n",
            "The number is positive.\n"
          ]
        }
      ]
    },
    {
      "cell_type": "markdown",
      "source": [
        "12. Write a for loop to print numbers from 1 to 10."
      ],
      "metadata": {
        "id": "MvX-7reGSsJ_"
      }
    },
    {
      "cell_type": "code",
      "source": [
        "for i in range(1, 11):\n",
        "    print(i)\n"
      ],
      "metadata": {
        "colab": {
          "base_uri": "https://localhost:8080/"
        },
        "id": "xor-j9g8Snyw",
        "outputId": "5f1c7cc7-00be-461c-c417-34539ef3cb81"
      },
      "execution_count": null,
      "outputs": [
        {
          "output_type": "stream",
          "name": "stdout",
          "text": [
            "1\n",
            "2\n",
            "3\n",
            "4\n",
            "5\n",
            "6\n",
            "7\n",
            "8\n",
            "9\n",
            "10\n"
          ]
        }
      ]
    },
    {
      "cell_type": "markdown",
      "source": [
        "13. Write a Python program to find the sum of all even numbers between 1 and 50."
      ],
      "metadata": {
        "id": "GKC9BlNIS3Fs"
      }
    },
    {
      "cell_type": "code",
      "source": [
        "# Initialize sum variable\n",
        "even_sum = 0\n",
        "\n",
        "# Loop through numbers from 1 to 50\n",
        "for num in range(1, 51):\n",
        "    if num % 2 == 0:\n",
        "        even_sum += num\n",
        "\n",
        "# Print the result\n",
        "print(\"Sum of all even numbers between 1 and 50:\", even_sum)\n"
      ],
      "metadata": {
        "colab": {
          "base_uri": "https://localhost:8080/"
        },
        "id": "c6lVronOS1hl",
        "outputId": "9c8f1133-9452-413d-e2b5-acd13421a2dd"
      },
      "execution_count": null,
      "outputs": [
        {
          "output_type": "stream",
          "name": "stdout",
          "text": [
            "Sum of all even numbers between 1 and 50: 650\n"
          ]
        }
      ]
    },
    {
      "cell_type": "markdown",
      "source": [
        "14. Write a program to reverse a string using a while loop"
      ],
      "metadata": {
        "id": "iYGzjypqTBtm"
      }
    },
    {
      "cell_type": "code",
      "source": [
        "def reverse_string(s):\n",
        "    # Initialize an empty string to store the reversed string\n",
        "    reversed_str = \"\"\n",
        "\n",
        "    # Start from the last character of the string\n",
        "    index = len(s) - 1\n",
        "\n",
        "    # Loop through the string in reverse order\n",
        "    while index >= 0:\n",
        "        reversed_str += s[index]\n",
        "        index -= 1\n",
        "\n",
        "    return reversed_str\n",
        "\n",
        "# Get user input\n",
        "user_input = input(\"Enter a string to reverse: \")\n",
        "\n",
        "# Call the function and print the reversed string\n",
        "print(\"Reversed string:\", reverse_string(user_input))\n"
      ],
      "metadata": {
        "colab": {
          "base_uri": "https://localhost:8080/"
        },
        "id": "zTSxE8blS_y7",
        "outputId": "429e54ba-09f5-4a1e-de14-5e9ef8b032c2"
      },
      "execution_count": null,
      "outputs": [
        {
          "output_type": "stream",
          "name": "stdout",
          "text": [
            "Enter a string to reverse: hello\n",
            "Reversed string: olleh\n"
          ]
        }
      ]
    },
    {
      "cell_type": "markdown",
      "source": [
        "15. Write a Python program to calculate the factorial of a number provided by the user using a while loop"
      ],
      "metadata": {
        "id": "YdHXgyYETQgA"
      }
    },
    {
      "cell_type": "code",
      "source": [
        "def factorial(n):\n",
        "    # Initialize the result variable to 1\n",
        "    result = 1\n",
        "\n",
        "    # Ensure the number is non-negative\n",
        "    if n < 0:\n",
        "        return \"Factorial is not defined for negative numbers.\"\n",
        "\n",
        "    # Calculate factorial using a while loop\n",
        "    while n > 1:\n",
        "        result *= n\n",
        "        n -= 1\n",
        "\n",
        "    return result\n",
        "\n",
        "# Get user input\n",
        "num = int(input(\"Enter a number to calculate its factorial: \"))\n",
        "\n",
        "# Call the function and display the result\n",
        "print(f\"Factorial of {num} is: {factorial(num)}\")\n"
      ],
      "metadata": {
        "colab": {
          "base_uri": "https://localhost:8080/"
        },
        "id": "DvUUFdp7TM-7",
        "outputId": "989d9962-2599-4115-d513-9cd7f05834f5"
      },
      "execution_count": null,
      "outputs": [
        {
          "output_type": "stream",
          "name": "stdout",
          "text": [
            "Enter a number to calculate its factorial: 5\n",
            "Factorial of 5 is: 120\n"
          ]
        }
      ]
    },
    {
      "cell_type": "code",
      "source": [],
      "metadata": {
        "id": "HGtnGn5QTcSS"
      },
      "execution_count": null,
      "outputs": []
    }
  ]
}